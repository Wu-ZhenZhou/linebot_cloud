{
 "cells": [
  {
   "cell_type": "code",
   "execution_count": 37,
   "metadata": {},
   "outputs": [],
   "source": [
    "#載入LineBot所需要的模組\n",
    "from flask import Flask, request, abort\n",
    "from linebot import LineBotApi, WebhookHandler\n",
    "from linebot.exceptions import InvalidSignatureError\n",
    "from linebot.models import *"
   ]
  },
  {
   "cell_type": "code",
   "execution_count": 38,
   "metadata": {},
   "outputs": [],
   "source": [
    "app = Flask(__name__)\n",
    "\n",
    "# 必須放上自己的Channel Access Token\n",
    "line_bot_api = LineBotApi('plMcM04uPLPHEsBYPqZZtFHj0pM9I19dOVByC5fp7FZf4gFTW83BZVWYBcTW/g/ENqoWfTrIUx6tLCyAVLRuGh4At1PXF2GZPqhTvswClAZCphOFNRgDyAvobPNymbm4D04ZsOAxaq8d9wNT6ojOxwdB04t89/1O/w1cDnyilFU=')\n",
    "\n",
    "# 必須放上自己的Channel Secret\n",
    "handler = WebhookHandler('fa28c66980cf43dd8b1e41630b2f8fd1')\n",
    "\n",
    "#伺服器檢測\n",
    "line_bot_api.push_message('U82e65d3ed7880828c259a6af649abc96', TextSendMessage(text='你可以開始了'))"
   ]
  },
  {
   "cell_type": "code",
   "execution_count": 39,
   "metadata": {},
   "outputs": [],
   "source": [
    "# 監聽所有來自 /callback 的 Post Request\n",
    "@app.route(\"/callback\", methods=['POST'])\n",
    "def callback():\n",
    "    # get X-Line-Signature header value\n",
    "    signature = request.headers['X-Line-Signature']\n",
    "    # get request body as text\n",
    "    body = request.get_data(as_text=True)\n",
    "    app.logger.info(\"Request body: \" + body)\n",
    "\n",
    "    # handle webhook body\n",
    "    try:\n",
    "        handler.handle(body, signature)\n",
    "    except InvalidSignatureError:\n",
    "        abort(400)\n",
    "\n",
    "    return 'OK'"
   ]
  },
  {
   "cell_type": "code",
   "execution_count": 40,
   "metadata": {},
   "outputs": [],
   "source": [
    "#訊息傳遞區塊\n",
    "##### 基本上程式編輯都在這個function #####\n",
    "@handler.add(MessageEvent, message=TextMessage)\n",
    "def handle_message(event):\n",
    "    message = TextSendMessage(text=event.message.text)\n",
    "    line_bot_api.reply_message(event.reply_token,message)\n",
    "    #活動顯示\n",
    "    print(event)\n",
    "    "
   ]
  },
  {
   "cell_type": "code",
   "execution_count": 41,
   "metadata": {},
   "outputs": [
    {
     "name": "stdout",
     "output_type": "stream",
     "text": [
      " * Serving Flask app \"__main__\" (lazy loading)\n",
      " * Environment: production\n",
      "\u001b[31m   WARNING: This is a development server. Do not use it in a production deployment.\u001b[0m\n",
      "\u001b[2m   Use a production WSGI server instead.\u001b[0m\n",
      " * Debug mode: off\n"
     ]
    },
    {
     "name": "stderr",
     "output_type": "stream",
     "text": [
      " * Running on http://0.0.0.0:400/ (Press CTRL+C to quit)\n",
      "127.0.0.1 - - [04/Oct/2022 01:30:29] \"\u001b[37mPOST /callback HTTP/1.1\u001b[0m\" 200 -\n"
     ]
    },
    {
     "name": "stdout",
     "output_type": "stream",
     "text": [
      "{\"deliveryContext\": {\"isRedelivery\": false}, \"message\": {\"id\": \"16890515680722\", \"text\": \"Igo\", \"type\": \"text\"}, \"mode\": \"active\", \"replyToken\": \"7e9374153eb94f4e9fb11211ef23c2d4\", \"source\": {\"type\": \"user\", \"userId\": \"U82e65d3ed7880828c259a6af649abc96\"}, \"timestamp\": 1664818227141, \"type\": \"message\", \"webhookEventId\": \"01GEFECADZ7MXJAXRZCRM2ESGG\"}\n"
     ]
    }
   ],
   "source": [
    "#主程式\n",
    "import os \n",
    "if (__name__ == \"__main__\"):\n",
    "    port = int(os.environ.get('PORT', 400))\n",
    "    app.run(host='0.0.0.0', port=port)"
   ]
  }
 ],
 "metadata": {
  "kernelspec": {
   "display_name": "Python 3.8.5 ('base')",
   "language": "python",
   "name": "python3"
  },
  "language_info": {
   "codemirror_mode": {
    "name": "ipython",
    "version": 3
   },
   "file_extension": ".py",
   "mimetype": "text/x-python",
   "name": "python",
   "nbconvert_exporter": "python",
   "pygments_lexer": "ipython3",
   "version": "3.8.13"
  },
  "orig_nbformat": 4,
  "vscode": {
   "interpreter": {
    "hash": "419c316b20c4b61a06cf9d08049f9c0bfb77b2d79dbdd1037b9350cb4208d039"
   }
  }
 },
 "nbformat": 4,
 "nbformat_minor": 2
}
