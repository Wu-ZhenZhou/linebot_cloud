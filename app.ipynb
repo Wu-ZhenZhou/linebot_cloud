{
 "cells": [
  {
   "cell_type": "code",
   "execution_count": 28,
   "metadata": {},
   "outputs": [],
   "source": [
    "#載入LineBot所需要的模組\n",
    "from flask import Flask, request, abort\n",
    "from linebot import LineBotApi, WebhookHandler\n",
    "from linebot.exceptions import InvalidSignatureError\n",
    "from linebot.models import *\n",
    "#訊息比對\n",
    "import re \n",
    "#use imgur\n",
    "from imgurpython import ImgurClient"
   ]
  },
  {
   "cell_type": "code",
   "execution_count": 3,
   "metadata": {},
   "outputs": [],
   "source": [
    "app = Flask(__name__)\n",
    "\n",
    "# 必須放上自己的Channel Access Token\n",
    "line_bot_api = LineBotApi('plMcM04uPLPHEsBYPqZZtFHj0pM9I19dOVByC5fp7FZf4gFTW83BZVWYBcTW/g/ENqoWfTrIUx6tLCyAVLRuGh4At1PXF2GZPqhTvswClAZCphOFNRgDyAvobPNymbm4D04ZsOAxaq8d9wNT6ojOxwdB04t89/1O/w1cDnyilFU=')\n",
    "\n",
    "# 必須放上自己的Channel Secret\n",
    "handler = WebhookHandler('fa28c66980cf43dd8b1e41630b2f8fd1')\n",
    "\n",
    "#伺服器檢測\n",
    "line_bot_api.push_message('U82e65d3ed7880828c259a6af649abc96', TextSendMessage(text='你可以開始了'))"
   ]
  },
  {
   "cell_type": "code",
   "execution_count": 4,
   "metadata": {},
   "outputs": [],
   "source": [
    "# 監聽所有來自 /callback 的 Post Request\n",
    "@app.route(\"/callback\", methods=['POST'])\n",
    "def callback():\n",
    "    # get X-Line-Signature header value\n",
    "    signature = request.headers['X-Line-Signature']\n",
    "    # get request body as text\n",
    "    body = request.get_data(as_text=True)\n",
    "    app.logger.info(\"Request body: \" + body)\n",
    "\n",
    "    # handle webhook body\n",
    "    try:\n",
    "        handler.handle(body, signature)\n",
    "    except InvalidSignatureError:\n",
    "        abort(400)\n",
    "\n",
    "    return 'OK'"
   ]
  },
  {
   "cell_type": "code",
   "execution_count": 31,
   "metadata": {},
   "outputs": [],
   "source": [
    "#訊息傳遞區塊\n",
    "##### 基本上程式編輯都在這個function #####\n",
    "@handler.add(MessageEvent, message=TextMessage)\n",
    "def handle_message(event):\n",
    "    #活動顯示\n",
    "    print(event)\n",
    "    \n",
    "    message = event.message.text #原TextSendMessage(text=event.message.text)\n",
    "    if re.match(\"使用說明\",message):\n",
    "        line_bot_api.reply_message(event.reply_token,TextSendMessage(\"才不告訴你勒~~\"))\n",
    "    if re.match('1',message):\n",
    "        image_message = ImageSendMessage(\n",
    "            original_content_url='https://media.nownews.com/nn_media/thumbnail/2019/10/1570089924-27a9b9c9d7facd3422fe4610dd8ebe42-696x386.png',\n",
    "            preview_image_url='https://media.nownews.com/nn_media/thumbnail/2019/10/1570089924-27a9b9c9d7facd3422fe4610dd8ebe42-696x386.png'\n",
    "            )\n",
    "        line_bot_api.reply_message(event.reply_token, image_message)\n",
    "    if re.match('2',message):\n",
    "        video_message = VideoSendMessage(\n",
    "            original_content_url='https://i.imgur.com/XVmZmIE.mp4',\n",
    "            preview_image_url='https://img.ttshow.tw/images/media/frontcover/2020/08/06/6.jpg'\n",
    "        )\n",
    "        line_bot_api.reply_message(event.reply_token, video_message)\n",
    "    if re.match('3',message):\n",
    "        audio_message = AudioSendMessage(\n",
    "            original_content_url='https://cdn.voicetube.com/everyday_records/5664/1626443219.mp3',duration=30000\n",
    "        )\n",
    "        line_bot_api.reply_message(event.reply_token, audio_message)\n",
    "    if \"股票 \" in message:\n",
    "        buttons_template_message = TemplateSendMessage(\n",
    "            alt_text = \"股票資訊\",template=CarouselTemplate(\n",
    "                columns=[\n",
    "                    CarouselColumn(\n",
    "                        thumbnail_image_url =\"https://www.cwb.gov.tw/Data/radar/CV1_3600.png\",\n",
    "                        title = message + \" 股票資訊\",\n",
    "                        text =\"請點選想查詢的股票資訊\",\n",
    "                        actions =[\n",
    "                            MessageAction(\n",
    "                                label= message[3:] + \" 個股資訊\",\n",
    "                                text= \"個股資訊 \" + message[3:]\n",
    "                            ),\n",
    "                            MessageAction(\n",
    "                                    label= message[3:] + \" 個股新聞\",\n",
    "                                    text= \"個股新聞 \" + message[3:]\n",
    "                            )\n",
    "                        ]\n",
    "                    )\n",
    "                ]\n",
    "            )\n",
    "        )\n",
    "        line_bot_api.reply_message(event.reply_token, buttons_template_message)\n",
    "    else:\n",
    "        line_bot_api.reply_message(event.reply_token,message)\n",
    "    \n",
    "    "
   ]
  },
  {
   "cell_type": "code",
   "execution_count": 32,
   "metadata": {},
   "outputs": [],
   "source": [
    "@handler.add(MessageEvent, message=ImageMessage)\n",
    "def handle_message(event):\n",
    "    message = event.message.image\n",
    "    if (event.message.type == \"image\"):\n",
    "        SendImage = line_bot_api.get_message_content(event.message.id)\n",
    "        print(SendImage)"
   ]
  },
  {
   "cell_type": "code",
   "execution_count": 33,
   "metadata": {},
   "outputs": [
    {
     "name": "stdout",
     "output_type": "stream",
     "text": [
      " * Serving Flask app '__main__' (lazy loading)\n",
      " * Environment: production\n",
      "\u001b[31m   WARNING: This is a development server. Do not use it in a production deployment.\u001b[0m\n",
      "\u001b[2m   Use a production WSGI server instead.\u001b[0m\n",
      " * Debug mode: off\n"
     ]
    },
    {
     "name": "stderr",
     "output_type": "stream",
     "text": [
      " * Running on all addresses.\n",
      "   WARNING: This is a development server. Do not use it in a production deployment.\n",
      " * Running on http://192.168.0.103:400/ (Press CTRL+C to quit)\n",
      "192.168.0.103 - - [25/Oct/2022 00:03:42] \"GET / HTTP/1.1\" 404 -\n",
      "192.168.0.103 - - [25/Oct/2022 00:03:42] \"GET /favicon.ico HTTP/1.1\" 404 -\n",
      "192.168.0.103 - - [25/Oct/2022 00:03:46] \"GET / HTTP/1.1\" 404 -\n"
     ]
    },
    {
     "name": "stdout",
     "output_type": "stream",
     "text": [
      "{\"deliveryContext\": {\"isRedelivery\": false}, \"message\": {\"id\": \"17007226805030\", \"text\": \"2\", \"type\": \"text\"}, \"mode\": \"active\", \"replyToken\": \"85c99b05103c46698f711ba4151806b3\", \"source\": {\"type\": \"user\", \"userId\": \"U82e65d3ed7880828c259a6af649abc96\"}, \"timestamp\": 1666627517201, \"type\": \"message\", \"webhookEventId\": \"01GG5BVF8AA5C62KY6VYHMW4E1\"}\n"
     ]
    },
    {
     "name": "stderr",
     "output_type": "stream",
     "text": [
      "[2022-10-25 00:05:17,834] ERROR in app: Exception on /callback [POST]\n",
      "Traceback (most recent call last):\n",
      "  File \"c:\\Users\\Z4862\\anaconda3\\envs\\line_bot\\lib\\site-packages\\flask\\app.py\", line 2073, in wsgi_app\n",
      "    response = self.full_dispatch_request()\n",
      "  File \"c:\\Users\\Z4862\\anaconda3\\envs\\line_bot\\lib\\site-packages\\flask\\app.py\", line 1518, in full_dispatch_request\n",
      "    rv = self.handle_user_exception(e)\n",
      "  File \"c:\\Users\\Z4862\\anaconda3\\envs\\line_bot\\lib\\site-packages\\flask\\app.py\", line 1516, in full_dispatch_request\n",
      "    rv = self.dispatch_request()\n",
      "  File \"c:\\Users\\Z4862\\anaconda3\\envs\\line_bot\\lib\\site-packages\\flask\\app.py\", line 1502, in dispatch_request\n",
      "    return self.ensure_sync(self.view_functions[rule.endpoint])(**req.view_args)\n",
      "  File \"C:\\Users\\Z4862\\AppData\\Local\\Temp\\ipykernel_5536\\805643118.py\", line 12, in callback\n",
      "    handler.handle(body, signature)\n",
      "  File \"c:\\Users\\Z4862\\anaconda3\\envs\\line_bot\\lib\\site-packages\\linebot\\webhook.py\", line 259, in handle\n",
      "    self.__invoke_func(func, event, payload)\n",
      "  File \"c:\\Users\\Z4862\\anaconda3\\envs\\line_bot\\lib\\site-packages\\linebot\\webhook.py\", line 271, in __invoke_func\n",
      "    func(event)\n",
      "  File \"C:\\Users\\Z4862\\AppData\\Local\\Temp\\ipykernel_5536\\3434130768.py\", line 52, in handle_message\n",
      "    line_bot_api.reply_message(event.reply_token,message)\n",
      "  File \"c:\\Users\\Z4862\\anaconda3\\envs\\line_bot\\lib\\site-packages\\linebot\\api.py\", line 109, in reply_message\n",
      "    'messages': [message.as_json_dict() for message in messages],\n",
      "  File \"c:\\Users\\Z4862\\anaconda3\\envs\\line_bot\\lib\\site-packages\\linebot\\api.py\", line 109, in <listcomp>\n",
      "    'messages': [message.as_json_dict() for message in messages],\n",
      "AttributeError: 'str' object has no attribute 'as_json_dict'\n",
      "127.0.0.1 - - [25/Oct/2022 00:05:17] \"POST /callback HTTP/1.1\" 500 -\n",
      "[2022-10-25 00:05:29,054] ERROR in app: Exception on /callback [POST]\n",
      "Traceback (most recent call last):\n",
      "  File \"c:\\Users\\Z4862\\anaconda3\\envs\\line_bot\\lib\\site-packages\\flask\\app.py\", line 2073, in wsgi_app\n",
      "    response = self.full_dispatch_request()\n",
      "  File \"c:\\Users\\Z4862\\anaconda3\\envs\\line_bot\\lib\\site-packages\\flask\\app.py\", line 1518, in full_dispatch_request\n",
      "    rv = self.handle_user_exception(e)\n",
      "  File \"c:\\Users\\Z4862\\anaconda3\\envs\\line_bot\\lib\\site-packages\\flask\\app.py\", line 1516, in full_dispatch_request\n",
      "    rv = self.dispatch_request()\n",
      "  File \"c:\\Users\\Z4862\\anaconda3\\envs\\line_bot\\lib\\site-packages\\flask\\app.py\", line 1502, in dispatch_request\n",
      "    return self.ensure_sync(self.view_functions[rule.endpoint])(**req.view_args)\n",
      "  File \"C:\\Users\\Z4862\\AppData\\Local\\Temp\\ipykernel_5536\\805643118.py\", line 12, in callback\n",
      "    handler.handle(body, signature)\n",
      "  File \"c:\\Users\\Z4862\\anaconda3\\envs\\line_bot\\lib\\site-packages\\linebot\\webhook.py\", line 259, in handle\n",
      "    self.__invoke_func(func, event, payload)\n",
      "  File \"c:\\Users\\Z4862\\anaconda3\\envs\\line_bot\\lib\\site-packages\\linebot\\webhook.py\", line 271, in __invoke_func\n",
      "    func(event)\n",
      "  File \"C:\\Users\\Z4862\\AppData\\Local\\Temp\\ipykernel_5536\\3434130768.py\", line 52, in handle_message\n",
      "    line_bot_api.reply_message(event.reply_token,message)\n",
      "  File \"c:\\Users\\Z4862\\anaconda3\\envs\\line_bot\\lib\\site-packages\\linebot\\api.py\", line 109, in reply_message\n",
      "    'messages': [message.as_json_dict() for message in messages],\n",
      "  File \"c:\\Users\\Z4862\\anaconda3\\envs\\line_bot\\lib\\site-packages\\linebot\\api.py\", line 109, in <listcomp>\n",
      "    'messages': [message.as_json_dict() for message in messages],\n",
      "AttributeError: 'str' object has no attribute 'as_json_dict'\n",
      "127.0.0.1 - - [25/Oct/2022 00:05:29] \"POST /callback HTTP/1.1\" 500 -\n"
     ]
    },
    {
     "name": "stdout",
     "output_type": "stream",
     "text": [
      "{\"deliveryContext\": {\"isRedelivery\": false}, \"message\": {\"id\": \"17007227402517\", \"text\": \"1\", \"type\": \"text\"}, \"mode\": \"active\", \"replyToken\": \"cd21fef4f60e4aecb7dd832cc4b01a1b\", \"source\": {\"type\": \"user\", \"userId\": \"U82e65d3ed7880828c259a6af649abc96\"}, \"timestamp\": 1666627528753, \"type\": \"message\", \"webhookEventId\": \"01GG5BVT8AXDJXZ34T30A3DB0J\"}\n"
     ]
    }
   ],
   "source": [
    "#主程式\n",
    "import os \n",
    "if (__name__ == \"__main__\"):\n",
    "    port = int(os.environ.get('PORT', 400))\n",
    "    app.run(host='0.0.0.0', port=port)"
   ]
  }
 ],
 "metadata": {
  "kernelspec": {
   "display_name": "Python 3.9.13 ('line_bot')",
   "language": "python",
   "name": "python3"
  },
  "language_info": {
   "codemirror_mode": {
    "name": "ipython",
    "version": 3
   },
   "file_extension": ".py",
   "mimetype": "text/x-python",
   "name": "python",
   "nbconvert_exporter": "python",
   "pygments_lexer": "ipython3",
   "version": "3.9.13"
  },
  "orig_nbformat": 4,
  "vscode": {
   "interpreter": {
    "hash": "6ef177cc2c16936dba8319cee7db6be5c9b8ed96642a3096d9440288b730d900"
   }
  }
 },
 "nbformat": 4,
 "nbformat_minor": 2
}
